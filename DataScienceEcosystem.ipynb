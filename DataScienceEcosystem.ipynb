{
 "cells": [
  {
   "cell_type": "markdown",
   "id": "f2fa799e-a375-4392-83e6-4bd5e20e3bc9",
   "metadata": {},
   "source": [
    "# Data Science Tools and Ecosystem"
   ]
  },
  {
   "cell_type": "markdown",
   "id": "191c8d12-9c7e-422a-81b3-593dd25f24d8",
   "metadata": {},
   "source": [
    "In this notebook, Data Science Tools and Ecosystem are summarized."
   ]
  },
  {
   "cell_type": "markdown",
   "id": "6cd6cd23-7580-4374-b31b-fc85c45ec246",
   "metadata": {},
   "source": [
    "**Objectives:**\n",
    "\n",
    "* List popular languages for Data Science\n",
    "* List commonly used libraries by Data Scientists\n",
    "* List three development environment open source tools\n",
    "* Examples of arithmetic operations in Python\n"
   ]
  },
  {
   "cell_type": "markdown",
   "id": "8a1db382-87e7-414f-bb7b-84e6ada9d272",
   "metadata": {},
   "source": [
    "Some of the popular languages that Data Scientists use are:\n",
    "\n",
    "1. Python\n",
    "2. R\n",
    "3. SQL"
   ]
  },
  {
   "cell_type": "markdown",
   "id": "2d3c25e6-46d7-4bec-9e8c-755d717333ab",
   "metadata": {},
   "source": [
    "Some of the commonly used libraries used by Data Scientists include:\n",
    "\n",
    "1. Pandas\n",
    "2. Numpy\n",
    "3. Seaborn"
   ]
  },
  {
   "cell_type": "markdown",
   "id": "e9b8172b-935e-4591-9c09-9b04c3542380",
   "metadata": {},
   "source": [
    "| Data Science Tools |\n",
    "| -------------------|\n",
    "| Jupyter Notebook |\n",
    "| Visual Studio Code |\n",
    "| Hadoop |"
   ]
  },
  {
   "cell_type": "markdown",
   "id": "03457c79-1b6b-41fe-895e-0ce3dab38e53",
   "metadata": {},
   "source": [
    "Below are a few examples of evaluating arithmetic expressions in Python.\n",
    "\n",
    "* `1+1`\n",
    "* `5-4`\n",
    "* `6*1`\n",
    "* `7/7`"
   ]
  },
  {
   "cell_type": "code",
   "execution_count": 1,
   "id": "84aae7f9-00c1-415d-912c-e89c136d2218",
   "metadata": {},
   "outputs": [
    {
     "name": "stdout",
     "output_type": "stream",
     "text": [
      "17\n"
     ]
    }
   ],
   "source": [
    "# This a simple arithmetic expression to mutiply then add integers\n",
    "print((3*4)+5)"
   ]
  },
  {
   "cell_type": "code",
   "execution_count": 2,
   "id": "2a54e88e-931a-4fe4-8e9c-f093c2692546",
   "metadata": {},
   "outputs": [
    {
     "name": "stdout",
     "output_type": "stream",
     "text": [
      "3.3333333333333335\n"
     ]
    }
   ],
   "source": [
    "# This will convert 200 minutes to hours by diving by 60\n",
    "min_to_hour = (200/60)\n",
    "print(min_to_hour)"
   ]
  },
  {
   "cell_type": "markdown",
   "id": "a9eae1e0-bd02-4dd0-b18d-5da420c8e9bb",
   "metadata": {},
   "source": [
    "## Author\n",
    "Pooja Devi"
   ]
  }
 ],
 "metadata": {
  "kernelspec": {
   "display_name": "Python 3 (ipykernel)",
   "language": "python",
   "name": "python3"
  },
  "language_info": {
   "codemirror_mode": {
    "name": "ipython",
    "version": 3
   },
   "file_extension": ".py",
   "mimetype": "text/x-python",
   "name": "python",
   "nbconvert_exporter": "python",
   "pygments_lexer": "ipython3",
   "version": "3.12.7"
  }
 },
 "nbformat": 4,
 "nbformat_minor": 5
}
